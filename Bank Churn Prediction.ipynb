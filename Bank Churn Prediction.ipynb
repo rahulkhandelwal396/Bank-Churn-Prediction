{
 "cells": [
  {
   "cell_type": "markdown",
   "metadata": {},
   "source": [
    "## Importing Standard Libraries"
   ]
  },
  {
   "cell_type": "code",
   "execution_count": 135,
   "metadata": {},
   "outputs": [],
   "source": [
    "# Importing standard libraries\n",
    "\n",
    "import pandas as pd\n",
    "import numpy as np\n",
    "\n",
    "from sklearn import preprocessing\n",
    "import sklearn\n",
    "from sklearn.svm import SVC\n",
    "from sklearn.preprocessing import StandardScaler\n",
    "from sklearn.datasets import make_classification\n",
    "from sklearn.preprocessing import LabelEncoder\n",
    "from sklearn.preprocessing import OneHotEncoder\n",
    "from sklearn_pandas import DataFrameMapper\n",
    "from sklearn.model_selection import train_test_split\n",
    "from sklearn.pipeline import Pipeline\n",
    "from sklearn.compose import ColumnTransformer\n",
    "from sklearn.preprocessing import Normalizer"
   ]
  },
  {
   "cell_type": "markdown",
   "metadata": {},
   "source": [
    "## Importing Data "
   ]
  },
  {
   "cell_type": "code",
   "execution_count": 136,
   "metadata": {},
   "outputs": [],
   "source": [
    "df_train = pd.read_csv('/Users/rahulkhandelwal/Desktop/Code/Bank Churn Prediction/train.csv')\n",
    "df_test = pd.read_csv('/Users/rahulkhandelwal/Desktop/Code/Bank Churn Prediction/test.csv')"
   ]
  },
  {
   "cell_type": "code",
   "execution_count": 3,
   "metadata": {},
   "outputs": [
    {
     "data": {
      "text/html": [
       "<div>\n",
       "<style scoped>\n",
       "    .dataframe tbody tr th:only-of-type {\n",
       "        vertical-align: middle;\n",
       "    }\n",
       "\n",
       "    .dataframe tbody tr th {\n",
       "        vertical-align: top;\n",
       "    }\n",
       "\n",
       "    .dataframe thead th {\n",
       "        text-align: right;\n",
       "    }\n",
       "</style>\n",
       "<table border=\"1\" class=\"dataframe\">\n",
       "  <thead>\n",
       "    <tr style=\"text-align: right;\">\n",
       "      <th></th>\n",
       "      <th>state</th>\n",
       "      <th>account_length</th>\n",
       "      <th>area_code</th>\n",
       "      <th>international_plan</th>\n",
       "      <th>voice_mail_plan</th>\n",
       "      <th>number_vmail_messages</th>\n",
       "      <th>total_day_minutes</th>\n",
       "      <th>total_day_calls</th>\n",
       "      <th>total_day_charge</th>\n",
       "      <th>total_eve_minutes</th>\n",
       "      <th>total_eve_calls</th>\n",
       "      <th>total_eve_charge</th>\n",
       "      <th>total_night_minutes</th>\n",
       "      <th>total_night_calls</th>\n",
       "      <th>total_night_charge</th>\n",
       "      <th>total_intl_minutes</th>\n",
       "      <th>total_intl_calls</th>\n",
       "      <th>total_intl_charge</th>\n",
       "      <th>number_customer_service_calls</th>\n",
       "      <th>churn</th>\n",
       "    </tr>\n",
       "  </thead>\n",
       "  <tbody>\n",
       "    <tr>\n",
       "      <th>0</th>\n",
       "      <td>OH</td>\n",
       "      <td>107</td>\n",
       "      <td>area_code_415</td>\n",
       "      <td>no</td>\n",
       "      <td>yes</td>\n",
       "      <td>26</td>\n",
       "      <td>161.6</td>\n",
       "      <td>123</td>\n",
       "      <td>27.47</td>\n",
       "      <td>195.5</td>\n",
       "      <td>103</td>\n",
       "      <td>16.62</td>\n",
       "      <td>254.4</td>\n",
       "      <td>103</td>\n",
       "      <td>11.45</td>\n",
       "      <td>13.7</td>\n",
       "      <td>3</td>\n",
       "      <td>3.70</td>\n",
       "      <td>1</td>\n",
       "      <td>no</td>\n",
       "    </tr>\n",
       "    <tr>\n",
       "      <th>1</th>\n",
       "      <td>NJ</td>\n",
       "      <td>137</td>\n",
       "      <td>area_code_415</td>\n",
       "      <td>no</td>\n",
       "      <td>no</td>\n",
       "      <td>0</td>\n",
       "      <td>243.4</td>\n",
       "      <td>114</td>\n",
       "      <td>41.38</td>\n",
       "      <td>121.2</td>\n",
       "      <td>110</td>\n",
       "      <td>10.30</td>\n",
       "      <td>162.6</td>\n",
       "      <td>104</td>\n",
       "      <td>7.32</td>\n",
       "      <td>12.2</td>\n",
       "      <td>5</td>\n",
       "      <td>3.29</td>\n",
       "      <td>0</td>\n",
       "      <td>no</td>\n",
       "    </tr>\n",
       "    <tr>\n",
       "      <th>2</th>\n",
       "      <td>OH</td>\n",
       "      <td>84</td>\n",
       "      <td>area_code_408</td>\n",
       "      <td>yes</td>\n",
       "      <td>no</td>\n",
       "      <td>0</td>\n",
       "      <td>299.4</td>\n",
       "      <td>71</td>\n",
       "      <td>50.90</td>\n",
       "      <td>61.9</td>\n",
       "      <td>88</td>\n",
       "      <td>5.26</td>\n",
       "      <td>196.9</td>\n",
       "      <td>89</td>\n",
       "      <td>8.86</td>\n",
       "      <td>6.6</td>\n",
       "      <td>7</td>\n",
       "      <td>1.78</td>\n",
       "      <td>2</td>\n",
       "      <td>no</td>\n",
       "    </tr>\n",
       "    <tr>\n",
       "      <th>3</th>\n",
       "      <td>OK</td>\n",
       "      <td>75</td>\n",
       "      <td>area_code_415</td>\n",
       "      <td>yes</td>\n",
       "      <td>no</td>\n",
       "      <td>0</td>\n",
       "      <td>166.7</td>\n",
       "      <td>113</td>\n",
       "      <td>28.34</td>\n",
       "      <td>148.3</td>\n",
       "      <td>122</td>\n",
       "      <td>12.61</td>\n",
       "      <td>186.9</td>\n",
       "      <td>121</td>\n",
       "      <td>8.41</td>\n",
       "      <td>10.1</td>\n",
       "      <td>3</td>\n",
       "      <td>2.73</td>\n",
       "      <td>3</td>\n",
       "      <td>no</td>\n",
       "    </tr>\n",
       "    <tr>\n",
       "      <th>4</th>\n",
       "      <td>MA</td>\n",
       "      <td>121</td>\n",
       "      <td>area_code_510</td>\n",
       "      <td>no</td>\n",
       "      <td>yes</td>\n",
       "      <td>24</td>\n",
       "      <td>218.2</td>\n",
       "      <td>88</td>\n",
       "      <td>37.09</td>\n",
       "      <td>348.5</td>\n",
       "      <td>108</td>\n",
       "      <td>29.62</td>\n",
       "      <td>212.6</td>\n",
       "      <td>118</td>\n",
       "      <td>9.57</td>\n",
       "      <td>7.5</td>\n",
       "      <td>7</td>\n",
       "      <td>2.03</td>\n",
       "      <td>3</td>\n",
       "      <td>no</td>\n",
       "    </tr>\n",
       "  </tbody>\n",
       "</table>\n",
       "</div>"
      ],
      "text/plain": [
       "  state  account_length      area_code international_plan voice_mail_plan  \\\n",
       "0    OH             107  area_code_415                 no             yes   \n",
       "1    NJ             137  area_code_415                 no              no   \n",
       "2    OH              84  area_code_408                yes              no   \n",
       "3    OK              75  area_code_415                yes              no   \n",
       "4    MA             121  area_code_510                 no             yes   \n",
       "\n",
       "   number_vmail_messages  total_day_minutes  total_day_calls  \\\n",
       "0                     26              161.6              123   \n",
       "1                      0              243.4              114   \n",
       "2                      0              299.4               71   \n",
       "3                      0              166.7              113   \n",
       "4                     24              218.2               88   \n",
       "\n",
       "   total_day_charge  total_eve_minutes  total_eve_calls  total_eve_charge  \\\n",
       "0             27.47              195.5              103             16.62   \n",
       "1             41.38              121.2              110             10.30   \n",
       "2             50.90               61.9               88              5.26   \n",
       "3             28.34              148.3              122             12.61   \n",
       "4             37.09              348.5              108             29.62   \n",
       "\n",
       "   total_night_minutes  total_night_calls  total_night_charge  \\\n",
       "0                254.4                103               11.45   \n",
       "1                162.6                104                7.32   \n",
       "2                196.9                 89                8.86   \n",
       "3                186.9                121                8.41   \n",
       "4                212.6                118                9.57   \n",
       "\n",
       "   total_intl_minutes  total_intl_calls  total_intl_charge  \\\n",
       "0                13.7                 3               3.70   \n",
       "1                12.2                 5               3.29   \n",
       "2                 6.6                 7               1.78   \n",
       "3                10.1                 3               2.73   \n",
       "4                 7.5                 7               2.03   \n",
       "\n",
       "   number_customer_service_calls churn  \n",
       "0                              1    no  \n",
       "1                              0    no  \n",
       "2                              2    no  \n",
       "3                              3    no  \n",
       "4                              3    no  "
      ]
     },
     "execution_count": 3,
     "metadata": {},
     "output_type": "execute_result"
    }
   ],
   "source": [
    "df_train.head()"
   ]
  },
  {
   "cell_type": "code",
   "execution_count": 4,
   "metadata": {},
   "outputs": [
    {
     "name": "stdout",
     "output_type": "stream",
     "text": [
      "<class 'pandas.core.frame.DataFrame'>\n",
      "RangeIndex: 4250 entries, 0 to 4249\n",
      "Data columns (total 20 columns):\n",
      " #   Column                         Non-Null Count  Dtype  \n",
      "---  ------                         --------------  -----  \n",
      " 0   state                          4250 non-null   object \n",
      " 1   account_length                 4250 non-null   int64  \n",
      " 2   area_code                      4250 non-null   object \n",
      " 3   international_plan             4250 non-null   object \n",
      " 4   voice_mail_plan                4250 non-null   object \n",
      " 5   number_vmail_messages          4250 non-null   int64  \n",
      " 6   total_day_minutes              4250 non-null   float64\n",
      " 7   total_day_calls                4250 non-null   int64  \n",
      " 8   total_day_charge               4250 non-null   float64\n",
      " 9   total_eve_minutes              4250 non-null   float64\n",
      " 10  total_eve_calls                4250 non-null   int64  \n",
      " 11  total_eve_charge               4250 non-null   float64\n",
      " 12  total_night_minutes            4250 non-null   float64\n",
      " 13  total_night_calls              4250 non-null   int64  \n",
      " 14  total_night_charge             4250 non-null   float64\n",
      " 15  total_intl_minutes             4250 non-null   float64\n",
      " 16  total_intl_calls               4250 non-null   int64  \n",
      " 17  total_intl_charge              4250 non-null   float64\n",
      " 18  number_customer_service_calls  4250 non-null   int64  \n",
      " 19  churn                          4250 non-null   object \n",
      "dtypes: float64(8), int64(7), object(5)\n",
      "memory usage: 664.2+ KB\n"
     ]
    }
   ],
   "source": [
    "df_train.info()"
   ]
  },
  {
   "cell_type": "markdown",
   "metadata": {},
   "source": [
    "## Pre - Processing Data "
   ]
  },
  {
   "cell_type": "code",
   "execution_count": 57,
   "metadata": {},
   "outputs": [],
   "source": [
    "#df_train['state'] = df_train['state'].astype('category')\n",
    "#df_train['area_code'] = df_train['area_code'].astype('category')\n",
    "#df_train['international_plan'] = df_train['international_plan'].astype('category')\n",
    "#df_train['voice_mail_plan'] = df_train['voice_mail_plan'].astype('category')"
   ]
  },
  {
   "cell_type": "code",
   "execution_count": 5,
   "metadata": {},
   "outputs": [
    {
     "name": "stdout",
     "output_type": "stream",
     "text": [
      "churn\n",
      "no     85.93\n",
      "yes    14.07\n",
      "dtype: float64\n"
     ]
    },
    {
     "data": {
      "text/plain": [
       "Text(0, 0.5, 'Frequency')"
      ]
     },
     "execution_count": 5,
     "metadata": {},
     "output_type": "execute_result"
    },
    {
     "data": {
      "image/png": "[encoded data removed]",
      "text/plain": [
       "<Figure size 288x288 with 1 Axes>"
      ]
     },
     "metadata": {
      "needs_background": "light"
     },
     "output_type": "display_data"
    }
   ],
   "source": [
    "# Each category within the churn column has the following frequency in percentage terms:\n",
    "print(round((df_train.groupby(['churn']).size()/len(df_train)*100),2))\n",
    "\n",
    "churn_plot = df_train['churn'].value_counts(sort = True, ascending = False).plot(kind = 'bar',figsize = (4,4), color = ['#BB6B5A','#8CCB9B'])\n",
    "churn_plot.set_xlabel('Churn type')\n",
    "churn_plot.set_ylabel('Frequency')"
   ]
  },
  {
   "cell_type": "code",
   "execution_count": 23,
   "metadata": {},
   "outputs": [
    {
     "name": "stdout",
     "output_type": "stream",
     "text": [
      "Categorical columns:\n",
      "['state', 'area_code', 'international_plan', 'voice_mail_plan']\n"
     ]
    }
   ],
   "source": [
    "# Defining the categorical columns:\n",
    "\n",
    "categoricalColumns = ['state','area_code','international_plan','voice_mail_plan']\n",
    "categorical_ix = df_train.select_dtypes(include=['object', 'bool']).columns\n",
    "\n",
    "print(\"Categorical columns:\")\n",
    "print(categoricalColumns)\n",
    "\n",
    "onehotCategorical = preprocessing.OneHotEncoder(handle_unknown = 'ignore',categories='auto',sparse = False)\n",
    "\n",
    "categorical_transformer = Pipeline(steps = [('onehot', onehotCategorical)])"
   ]
  },
  {
   "cell_type": "code",
   "execution_count": 24,
   "metadata": {},
   "outputs": [
    {
     "data": {
      "text/plain": [
       "state                 object\n",
       "area_code             object\n",
       "international_plan    object\n",
       "voice_mail_plan       object\n",
       "dtype: object"
      ]
     },
     "execution_count": 24,
     "metadata": {},
     "output_type": "execute_result"
    }
   ],
   "source": [
    "# Showing categorical data\n",
    "df_train.loc[:,categoricalColumns].dtypes"
   ]
  },
  {
   "cell_type": "code",
   "execution_count": 25,
   "metadata": {},
   "outputs": [
    {
     "name": "stdout",
     "output_type": "stream",
     "text": [
      "Numerical columns: \n",
      "Index(['account_length', 'number_vmail_messages', 'total_day_minutes',\n",
      "       'total_day_calls', 'total_day_charge', 'total_eve_minutes',\n",
      "       'total_eve_calls', 'total_eve_charge', 'total_night_minutes',\n",
      "       'total_night_calls', 'total_night_charge', 'total_intl_minutes',\n",
      "       'total_intl_calls', 'total_intl_charge',\n",
      "       'number_customer_service_calls'],\n",
      "      dtype='object')\n"
     ]
    }
   ],
   "source": [
    "# Defining the numerical columns:\n",
    "\n",
    "numericalColumns = df_train.select_dtypes(include=[np.float,np.int]).columns\n",
    "\n",
    "print(\"Numerical columns: \")\n",
    "print(numericalColumns)\n",
    "\n",
    "scaler_numerical = StandardScaler()\n",
    "\n",
    "numerical_transformer = Pipeline(steps = [('scale',scaler_numerical)])"
   ]
  },
  {
   "cell_type": "code",
   "execution_count": 26,
   "metadata": {},
   "outputs": [
    {
     "data": {
      "text/plain": [
       "account_length                     int64\n",
       "number_vmail_messages              int64\n",
       "total_day_minutes                float64\n",
       "total_day_calls                    int64\n",
       "total_day_charge                 float64\n",
       "total_eve_minutes                float64\n",
       "total_eve_calls                    int64\n",
       "total_eve_charge                 float64\n",
       "total_night_minutes              float64\n",
       "total_night_calls                  int64\n",
       "total_night_charge               float64\n",
       "total_intl_minutes               float64\n",
       "total_intl_calls                   int64\n",
       "total_intl_charge                float64\n",
       "number_customer_service_calls      int64\n",
       "dtype: object"
      ]
     },
     "execution_count": 26,
     "metadata": {},
     "output_type": "execute_result"
    }
   ],
   "source": [
    "# Showing numerical data\n",
    "df_train.loc[:,numericalColumns.values].dtypes"
   ]
  },
  {
   "cell_type": "code",
   "execution_count": 33,
   "metadata": {},
   "outputs": [
    {
     "name": "stdout",
     "output_type": "stream",
     "text": [
      "[[0.0 0.0 0.0 ... 1.2485912365478966 -0.42634612724537485 'no']\n",
      " [0.0 0.0 0.0 ... 0.698341682382157 -1.1889602016531369 'no']\n",
      " [0.0 0.0 0.0 ... -1.3281871634477609 0.3362679471623873 'no']\n",
      " ...\n",
      " [0.0 0.0 0.0 ... -1.220821396781275 -0.42634612724537485 'no']\n",
      " [0.0 0.0 0.0 ... -0.13374300928310742 0.3362679471623873 'no']\n",
      " [0.0 0.0 0.0 ... -0.3484745426160791 -1.1889602016531369 'no']]\n"
     ]
    }
   ],
   "source": [
    "# Preprocessing\n",
    "\n",
    "preproc = ColumnTransformer(transformers=[('cat',categorical_transformer,categoricalColumns),\n",
    "                                          ('num',numerical_transformer,numericalColumns)],\n",
    "                                          remainder = \"passthrough\")\n",
    "\n",
    "df_churn_pd = preproc.fit_transform(df_train)\n",
    "print(df_churn_pd)"
   ]
  },
  {
   "cell_type": "code",
   "execution_count": 45,
   "metadata": {},
   "outputs": [
    {
     "name": "stdout",
     "output_type": "stream",
     "text": [
      "Encoded values of churn after LabelEncoding: [0 0 0 ... 0 0 0]\n"
     ]
    }
   ],
   "source": [
    "features = []\n",
    "features = df_train.drop(['churn'],axis=1)\n",
    "#features = pd.DataFrame(df_churn_pd).iloc[:,:-1]\n",
    "\n",
    "labebl_churn = pd.DataFrame(df_train,columns = ['churn'])\n",
    "label_encoder = LabelEncoder()\n",
    "label = df_train['churn']\n",
    "\n",
    "label = label_encoder.fit_transform(label)\n",
    "print(\"Encoded values of churn after LabelEncoding: \"  + str(label))"
   ]
  },
  {
   "cell_type": "code",
   "execution_count": 46,
   "metadata": {},
   "outputs": [
    {
     "data": {
      "text/plain": [
       "Counter({0: 3652, 1: 598})"
      ]
     },
     "execution_count": 46,
     "metadata": {},
     "output_type": "execute_result"
    }
   ],
   "source": [
    "from collections import Counter\n",
    "Counter(label)"
   ]
  },
  {
   "cell_type": "markdown",
   "metadata": {},
   "source": [
    "## Train - Test Split "
   ]
  },
  {
   "cell_type": "code",
   "execution_count": 47,
   "metadata": {},
   "outputs": [
    {
     "name": "stdout",
     "output_type": "stream",
     "text": [
      "Training Input shape: (2847, 19)\n",
      "Training Output shape: (2847,)\n",
      "Training Input shape: (1403, 19)\n",
      "Training Input shape: (1403,)\n"
     ]
    }
   ],
   "source": [
    "from sklearn.model_selection import train_test_split\n",
    "X_train, X_test, y_train, y_test = train_test_split(features, label, test_size=0.33, random_state=42)\n",
    "\n",
    "print(\"Training Input shape: \" + str(X_train.shape))\n",
    "print(\"Training Output shape: \" + str(y_train.shape))\n",
    "\n",
    "print(\"Training Input shape: \" + str(X_test.shape))\n",
    "print(\"Training Input shape: \" + str(y_test.shape))"
   ]
  },
  {
   "cell_type": "markdown",
   "metadata": {},
   "source": [
    "## Random Forest Model"
   ]
  },
  {
   "cell_type": "code",
   "execution_count": 69,
   "metadata": {},
   "outputs": [],
   "source": [
    "from sklearn.ensemble import RandomForestClassifier\n",
    "\n",
    "model_name= \"Random Forest Classifier\"\n",
    "randomForestClassifier = RandomForestClassifier(n_estimators = 100, max_depth = 10, random_state = 0)"
   ]
  },
  {
   "cell_type": "code",
   "execution_count": 70,
   "metadata": {},
   "outputs": [],
   "source": [
    "rfc_model = Pipeline(steps = [('preprocessor',preproc),('classifier',randomForestClassifier)])"
   ]
  },
  {
   "cell_type": "code",
   "execution_count": 71,
   "metadata": {},
   "outputs": [
    {
     "data": {
      "text/plain": [
       "Pipeline(steps=[('preprocessor',\n",
       "                 ColumnTransformer(remainder='passthrough',\n",
       "                                   transformers=[('cat',\n",
       "                                                  Pipeline(steps=[('onehot',\n",
       "                                                                   OneHotEncoder(handle_unknown='ignore',\n",
       "                                                                                 sparse=False))]),\n",
       "                                                  ['state', 'area_code',\n",
       "                                                   'international_plan',\n",
       "                                                   'voice_mail_plan']),\n",
       "                                                 ('num',\n",
       "                                                  Pipeline(steps=[('scale',\n",
       "                                                                   StandardScaler())]),\n",
       "                                                  Index(['account_length', 'number_vmail_messages', 'total_day_minutes',\n",
       "       'total_day_calls', 'total_day_charge', 'total_eve_minutes',\n",
       "       'total_eve_calls', 'total_eve_charge', 'total_night_minutes',\n",
       "       'total_night_calls', 'total_night_charge', 'total_intl_minutes',\n",
       "       'total_intl_calls', 'total_intl_charge',\n",
       "       'number_customer_service_calls'],\n",
       "      dtype='object'))])),\n",
       "                ('classifier',\n",
       "                 RandomForestClassifier(max_depth=10, random_state=0))])"
      ]
     },
     "execution_count": 71,
     "metadata": {},
     "output_type": "execute_result"
    }
   ],
   "source": [
    "rfc_model.fit(X_train,y_train)"
   ]
  },
  {
   "cell_type": "code",
   "execution_count": 72,
   "metadata": {},
   "outputs": [],
   "source": [
    "y_pred_rfc = rfc_model.predict(X_test)"
   ]
  },
  {
   "cell_type": "code",
   "execution_count": 83,
   "metadata": {},
   "outputs": [
    {
     "name": "stdout",
     "output_type": "stream",
     "text": [
      "<class 'pandas.core.frame.DataFrame'>\n",
      "Int64Index: 1403 entries, 1024 to 2696\n",
      "Data columns (total 19 columns):\n",
      " #   Column                         Non-Null Count  Dtype  \n",
      "---  ------                         --------------  -----  \n",
      " 0   state                          1403 non-null   object \n",
      " 1   account_length                 1403 non-null   int64  \n",
      " 2   area_code                      1403 non-null   object \n",
      " 3   international_plan             1403 non-null   object \n",
      " 4   voice_mail_plan                1403 non-null   object \n",
      " 5   number_vmail_messages          1403 non-null   int64  \n",
      " 6   total_day_minutes              1403 non-null   float64\n",
      " 7   total_day_calls                1403 non-null   int64  \n",
      " 8   total_day_charge               1403 non-null   float64\n",
      " 9   total_eve_minutes              1403 non-null   float64\n",
      " 10  total_eve_calls                1403 non-null   int64  \n",
      " 11  total_eve_charge               1403 non-null   float64\n",
      " 12  total_night_minutes            1403 non-null   float64\n",
      " 13  total_night_calls              1403 non-null   int64  \n",
      " 14  total_night_charge             1403 non-null   float64\n",
      " 15  total_intl_minutes             1403 non-null   float64\n",
      " 16  total_intl_calls               1403 non-null   int64  \n",
      " 17  total_intl_charge              1403 non-null   float64\n",
      " 18  number_customer_service_calls  1403 non-null   int64  \n",
      "dtypes: float64(8), int64(7), object(4)\n",
      "memory usage: 219.2+ KB\n"
     ]
    }
   ],
   "source": [
    "X_test.info()"
   ]
  },
  {
   "cell_type": "code",
   "execution_count": 156,
   "metadata": {},
   "outputs": [
    {
     "name": "stdout",
     "output_type": "stream",
     "text": [
      "93.0%\n",
      "[[1191    0]\n",
      " [  93  119]]\n"
     ]
    }
   ],
   "source": [
    "from sklearn.metrics import accuracy_score, confusion_matrix, classification_report\n",
    "\n",
    "# View accuracy score\n",
    "rf = str((round(accuracy_score(y_test, y_pred_rfc),2)*100))+'%'\n",
    "print(rf)\n",
    "\n",
    "# View confusion matrix for test data and predictions\n",
    "print(confusion_matrix(y_test, y_pred_rfc))"
   ]
  },
  {
   "cell_type": "markdown",
   "metadata": {},
   "source": [
    "Now we are going to predict on our test data."
   ]
  },
  {
   "cell_type": "code",
   "execution_count": 143,
   "metadata": {},
   "outputs": [],
   "source": [
    "df_test_id = df_test.iloc[:,0]\n",
    "\n",
    "df_test_data = df_test.iloc[:,1:]\n",
    "df_test_data.columns = list(X_test.columns)\n",
    "\n",
    "test_pred_rfc = rfc_model.predict(df_test_data)\n",
    "\n",
    "final = pd.DataFrame(df_test_id.copy())\n",
    "\n",
    "final['pred'] = pd.Series(test_pred_rfc)\n",
    "\n",
    "mapping = {0:'no',1:'yes'}\n",
    "final['churn'] = final['pred'].map(mapping)\n",
    "final.drop(['pred'],axis=1,inplace = True)\n",
    "\n",
    "final.to_csv(str(model_name)+'.csv',index=False)"
   ]
  },
  {
   "cell_type": "markdown",
   "metadata": {},
   "source": [
    "## Logistic Regression Classifier"
   ]
  },
  {
   "cell_type": "code",
   "execution_count": 144,
   "metadata": {},
   "outputs": [],
   "source": [
    "from sklearn.linear_model import LogisticRegression\n",
    "\n",
    "model_name = \"Logistic Regression Classifier\"\n",
    "\n",
    "LogisticRegressionClassifier = LogisticRegression(random_state=0,multi_class='auto',solver='lbfgs',max_iter=1000)\n",
    "\n",
    "lrc_model = Pipeline(steps = [('preprocessor',preproc),('classifier',LogisticRegressionClassifier)])\n",
    "\n",
    "lrc_model.fit(X_train,y_train)\n",
    "y_pred_lrc = lrc_model.predict(X_test)"
   ]
  },
  {
   "cell_type": "code",
   "execution_count": 155,
   "metadata": {},
   "outputs": [
    {
     "name": "stdout",
     "output_type": "stream",
     "text": [
      "86.0%\n",
      "[[1167   24]\n",
      " [ 166   46]]\n"
     ]
    }
   ],
   "source": [
    "# View accuracy score\n",
    "lr = str((round(accuracy_score(y_test, y_pred_lrc),2)*100))+'%'\n",
    "print(lr)\n",
    "\n",
    "# View confusion matrix for test data and predictions\n",
    "print(confusion_matrix(y_test, y_pred_lrc))"
   ]
  },
  {
   "cell_type": "markdown",
   "metadata": {},
   "source": [
    "Now we are going to predict on our test data."
   ]
  },
  {
   "cell_type": "code",
   "execution_count": 151,
   "metadata": {},
   "outputs": [],
   "source": [
    "df_test_id = df_test.iloc[:,0]\n",
    "\n",
    "df_test_data = df_test.iloc[:,1:]\n",
    "df_test_data.columns = list(X_test.columns)\n",
    "\n",
    "test_pred_lrc = lrc_model.predict(df_test_data)\n",
    "\n",
    "final = pd.DataFrame(df_test_id.copy())\n",
    "\n",
    "final['pred'] = pd.Series(test_pred_lrc)\n",
    "\n",
    "mapping = {0:'no',1:'yes'}\n",
    "final['churn'] = final['pred'].map(mapping)\n",
    "final.drop(['pred'],axis=1,inplace = True)\n",
    "\n",
    "final.to_csv(str(model_name)+'.csv',index=False)"
   ]
  },
  {
   "cell_type": "markdown",
   "metadata": {},
   "source": [
    "## KNN Classifier "
   ]
  },
  {
   "cell_type": "code",
   "execution_count": 150,
   "metadata": {},
   "outputs": [],
   "source": [
    "from sklearn.neighbors import KNeighborsClassifier\n",
    "\n",
    "model_name = \"KNN Classifier\"\n",
    "\n",
    "knnClassifier = KNeighborsClassifier(n_neighbors = 5,metric='minkowski',p=2)\n",
    "\n",
    "knn_model = Pipeline(steps = [('preprocessor',preproc),('classifier',knnClassifier)])\n",
    "\n",
    "knn_model.fit(X_train,y_train)\n",
    "y_pred_knn = knn_model.predict(X_test)"
   ]
  },
  {
   "cell_type": "code",
   "execution_count": 157,
   "metadata": {},
   "outputs": [
    {
     "name": "stdout",
     "output_type": "stream",
     "text": [
      "88.0%\n",
      "[[1181   10]\n",
      " [ 163   49]]\n"
     ]
    }
   ],
   "source": [
    "# View accuracy score\n",
    "knn = str((round(accuracy_score(y_test, y_pred_knn),2)*100))+'%'\n",
    "print(knn)\n",
    "\n",
    "# View confusion matrix for test data and predictions\n",
    "print(confusion_matrix(y_test, y_pred_knn))"
   ]
  },
  {
   "cell_type": "markdown",
   "metadata": {},
   "source": [
    "Now we are going to predict on our test data."
   ]
  },
  {
   "cell_type": "code",
   "execution_count": null,
   "metadata": {},
   "outputs": [],
   "source": [
    "df_test_id = df_test.iloc[:,0]\n",
    "\n",
    "df_test_data = df_test.iloc[:,1:]\n",
    "df_test_data.columns = list(X_test.columns)\n",
    "\n",
    "test_pred_knn = knn_model.predict(df_test_data)\n",
    "\n",
    "final = pd.DataFrame(df_test_id.copy())\n",
    "\n",
    "final['pred'] = pd.Series(test_pred_knn)\n",
    "\n",
    "mapping = {0:'no',1:'yes'}\n",
    "final['churn'] = final['pred'].map(mapping)\n",
    "final.drop(['pred'],axis=1,inplace = True)\n",
    "\n",
    "final.to_csv(str(model_name)+'.csv',index=False)"
   ]
  },
  {
   "cell_type": "markdown",
   "metadata": {},
   "source": [
    "## Model Comparison "
   ]
  },
  {
   "cell_type": "code",
   "execution_count": 159,
   "metadata": {},
   "outputs": [
    {
     "name": "stdout",
     "output_type": "stream",
     "text": [
      "RF: 93.0%\n",
      "LR: 86.0%\n",
      "KNN: 88.0%\n"
     ]
    }
   ],
   "source": [
    "print(\"Random Forest accuracy: \" + rf)\n",
    "print(\"Logisitc Regression accuracy: \" + lr)\n",
    "print(\"KNN accuracy: \" + knn)"
   ]
  }
 ],
 "metadata": {
  "kernelspec": {
   "display_name": "Python 3",
   "language": "python",
   "name": "python3"
  },
  "language_info": {
   "codemirror_mode": {
    "name": "ipython",
    "version": 3
   },
   "file_extension": ".py",
   "mimetype": "text/x-python",
   "name": "python",
   "nbconvert_exporter": "python",
   "pygments_lexer": "ipython3",
   "version": "3.8.3"
  }
 },
 "nbformat": 4,
 "nbformat_minor": 4
}
